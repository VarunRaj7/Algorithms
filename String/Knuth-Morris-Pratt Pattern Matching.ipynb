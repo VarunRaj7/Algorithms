{
 "cells": [
  {
   "cell_type": "code",
   "execution_count": 17,
   "metadata": {},
   "outputs": [],
   "source": [
    "class KMPAlgo:\n",
    "    def __init__(self, S, P):\n",
    "        self.s = S\n",
    "        self.p = P\n",
    "        self.n = len(S)\n",
    "        self.m = len(P)\n",
    "        self.lps = self.computeLPS()\n",
    "\n",
    "        \n",
    "    def computeLPS(self):\n",
    "        \n",
    "        l = 0\n",
    "        \n",
    "        lps = [0]*self.m\n",
    "        \n",
    "        lps[0] = -1\n",
    "        \n",
    "        pos = 1\n",
    "        \n",
    "        while(pos<self.m):\n",
    "            if self.p[pos]==self.p[l]:\n",
    "                lps[pos] = lps[l]\n",
    "            else:\n",
    "                lps[pos] = l\n",
    "                l = lps[l]\n",
    "                while(l>=0 and w[pos]!=w[l]):\n",
    "                    l = lps[l]\n",
    "            pos+=1\n",
    "            l+=1\n",
    "    \n",
    "        return lps\n",
    "    \n",
    "    def kmpSearch(self):\n",
    "        \n",
    "        j = 0\n",
    "        k = 0\n",
    "        \n",
    "        while(j<self.n):\n",
    "            if self.s[j]==self.p[k]:\n",
    "                j+=1\n",
    "                k+=1\n",
    "                if k==self.m:\n",
    "                    return j-k\n",
    "            else:\n",
    "                k = self.lps[k]\n",
    "                if k<0:\n",
    "                    j+=1\n",
    "                    k+=1\n",
    "        return -1\n",
    "        "
   ]
  },
  {
   "cell_type": "code",
   "execution_count": 18,
   "metadata": {},
   "outputs": [
    {
     "data": {
      "text/plain": [
       "10"
      ]
     },
     "execution_count": 18,
     "metadata": {},
     "output_type": "execute_result"
    }
   ],
   "source": [
    "obj = KMPAlgo(\"ABABDABACDABABCABAB\", \"ABABCABAB\")\n",
    "obj.kmpSearch()"
   ]
  },
  {
   "cell_type": "code",
   "execution_count": null,
   "metadata": {},
   "outputs": [],
   "source": []
  }
 ],
 "metadata": {
  "kernelspec": {
   "display_name": "Python 3",
   "language": "python",
   "name": "python3"
  },
  "language_info": {
   "codemirror_mode": {
    "name": "ipython",
    "version": 3
   },
   "file_extension": ".py",
   "mimetype": "text/x-python",
   "name": "python",
   "nbconvert_exporter": "python",
   "pygments_lexer": "ipython3",
   "version": "3.7.6"
  }
 },
 "nbformat": 4,
 "nbformat_minor": 4
}
