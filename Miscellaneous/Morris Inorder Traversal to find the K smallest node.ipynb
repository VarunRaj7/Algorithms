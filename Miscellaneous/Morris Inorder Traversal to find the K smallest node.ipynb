{
 "cells": [
  {
   "cell_type": "markdown",
   "metadata": {},
   "source": [
    "## Morris Inorder Traversal to find the K smallest node"
   ]
  },
  {
   "cell_type": "code",
   "execution_count": 1,
   "metadata": {},
   "outputs": [],
   "source": [
    "class Node:\n",
    "    def __init__(self, x):\n",
    "        self.value =  x\n",
    "        self.left = None\n",
    "        self.right = None\n",
    "        \n",
    "def build(head, t):\n",
    "    if t:\n",
    "        head.value = t[\"value\"]\n",
    "        head.left = build(Node(None), t[\"left\"])\n",
    "        head.right = build(Node(None), t[\"right\"])\n",
    "        return head\n",
    "    return None"
   ]
  },
  {
   "cell_type": "code",
   "execution_count": 43,
   "metadata": {},
   "outputs": [
    {
     "name": "stdout",
     "output_type": "stream",
     "text": [
      "{'value': 3, 'left': {'value': 1, 'left': None, 'right': None}, 'right': {'value': 5, 'left': {'value': 4, 'left': None, 'right': None}, 'right': {'value': 6, 'left': None, 'right': None}}}\n"
     ]
    }
   ],
   "source": [
    "t = {\n",
    "    \"value\": 3,\n",
    "    \"left\": {\n",
    "        \"value\": 1,\n",
    "        \"left\": None,\n",
    "        \"right\": None\n",
    "    },\n",
    "    \"right\": {\n",
    "        \"value\": 5,\n",
    "        \"left\": {\n",
    "            \"value\": 4,\n",
    "            \"left\": None,\n",
    "            \"right\": None\n",
    "        },\n",
    "        \"right\": {\n",
    "            \"value\": 6,\n",
    "            \"left\": None,\n",
    "            \"right\": None\n",
    "        }\n",
    "    }\n",
    "}\n",
    "\n",
    "print(t)\n",
    "\n",
    "head = build(Node(None), t)"
   ]
  },
  {
   "cell_type": "code",
   "execution_count": 44,
   "metadata": {},
   "outputs": [],
   "source": [
    "class MorrisInorderTraversal:\n",
    "    \n",
    "    def process(self, root):\n",
    "        cur = root\n",
    "        res = []\n",
    "        while(cur):\n",
    "            if cur.left:\n",
    "                pre = cur.left\n",
    "                while(pre.right):\n",
    "                    pre = pre.right\n",
    "                pre.right = cur\n",
    "                cur.left, cur = None, cur.left\n",
    "            else:\n",
    "                res.append(cur.value)\n",
    "                cur = cur.right\n",
    "        return res"
   ]
  },
  {
   "cell_type": "code",
   "execution_count": 45,
   "metadata": {},
   "outputs": [],
   "source": [
    "res = MorrisInorderTraversal().process(head)"
   ]
  },
  {
   "cell_type": "code",
   "execution_count": 46,
   "metadata": {},
   "outputs": [
    {
     "name": "stdout",
     "output_type": "stream",
     "text": [
      "[1, 3, 4, 5, 6]\n"
     ]
    }
   ],
   "source": [
    "print(res)"
   ]
  }
 ],
 "metadata": {
  "kernelspec": {
   "display_name": "Python 3",
   "language": "python",
   "name": "python3"
  },
  "language_info": {
   "codemirror_mode": {
    "name": "ipython",
    "version": 3
   },
   "file_extension": ".py",
   "mimetype": "text/x-python",
   "name": "python",
   "nbconvert_exporter": "python",
   "pygments_lexer": "ipython3",
   "version": "3.7.6"
  }
 },
 "nbformat": 4,
 "nbformat_minor": 4
}
