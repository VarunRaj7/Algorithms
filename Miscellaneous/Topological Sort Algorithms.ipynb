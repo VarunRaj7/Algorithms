{
 "cells": [
  {
   "cell_type": "markdown",
   "metadata": {},
   "source": [
    "### Topological Sort Algorithms\n",
    "\n",
    "1. DFS\n",
    "2. Kahn's Algorithms"
   ]
  },
  {
   "cell_type": "markdown",
   "metadata": {},
   "source": [
    "#### Topological Sort with DFS"
   ]
  },
  {
   "cell_type": "code",
   "execution_count": 4,
   "metadata": {},
   "outputs": [],
   "source": [
    "from collections import defaultdict\n",
    "\n",
    "class DFSSolution:\n",
    "    \n",
    "    def __init__(self):\n",
    "        self.WHITE = 1\n",
    "        self.GRAY = 2\n",
    "        self.BLACK = 3\n",
    "    \n",
    "    def findOrder(self, numCourses, prerequisites):\n",
    "        v = [self.WHITE]*numCourses\n",
    "        res = []\n",
    "        dic = defaultdict(list)\n",
    "        \n",
    "        for dest,src in prerequisites:\n",
    "            dic[src].append(dest)\n",
    "\n",
    "        c = numCourses-1\n",
    "        \n",
    "        dcg = True\n",
    "        \n",
    "        def dfs(i):\n",
    "            nonlocal dcg\n",
    "            \n",
    "            if not dcg:\n",
    "                return \n",
    "            \n",
    "            v[i] = self.GRAY\n",
    "            \n",
    "            for w in dic[i]:\n",
    "                if v[w]==self.GRAY:\n",
    "                    dcg = False\n",
    "                    break\n",
    "                if v[w]==self.WHITE:\n",
    "                    dfs(w)\n",
    "            v[i] = self.BLACK \n",
    "            res.append(i)\n",
    "            \n",
    "        for i in range(numCourses):\n",
    "            if v[i]==self.WHITE:\n",
    "                dfs(i)\n",
    "                \n",
    "        \n",
    "        return res[::-1] if dcg else []"
   ]
  },
  {
   "cell_type": "code",
   "execution_count": 6,
   "metadata": {},
   "outputs": [
    {
     "data": {
      "text/plain": [
       "[0, 2, 1, 3]"
      ]
     },
     "execution_count": 6,
     "metadata": {},
     "output_type": "execute_result"
    }
   ],
   "source": [
    "DFSSolution().findOrder(4, [[1,0],[2,0],[3,1],[3,2]])"
   ]
  },
  {
   "cell_type": "markdown",
   "metadata": {},
   "source": [
    "#### Kahn's Algorithm"
   ]
  },
  {
   "cell_type": "code",
   "execution_count": 19,
   "metadata": {},
   "outputs": [],
   "source": [
    "from collections import defaultdict\n",
    "\n",
    "class KahnsSolution:\n",
    "    \n",
    "    def findOrder(self, numCourses, prerequisites):\n",
    "        res = []\n",
    "        dic = defaultdict(list)\n",
    "        degdic = defaultdict(int) \n",
    "        \n",
    "        for dest,src in prerequisites:\n",
    "            dic[src].append(dest)\n",
    "            degdic[dest]+=1\n",
    "            \n",
    "        sarr = [i for i in range(numCourses) if not degdic[i]]\n",
    "        \n",
    "        \n",
    "        while(sarr):\n",
    "            \n",
    "            node = sarr.pop(0)\n",
    "            \n",
    "            res.append(node)\n",
    "            \n",
    "            for v in dic[node]:\n",
    "                degdic[v]-=1\n",
    "                if not degdic[v]:\n",
    "                    sarr.append(v)\n",
    "        \n",
    "        return res if numCourses==len(res) else []\n"
   ]
  },
  {
   "cell_type": "code",
   "execution_count": 20,
   "metadata": {},
   "outputs": [
    {
     "data": {
      "text/plain": [
       "[0, 1, 2, 3]"
      ]
     },
     "execution_count": 20,
     "metadata": {},
     "output_type": "execute_result"
    }
   ],
   "source": [
    "KahnsSolution().findOrder(4, [[1,0],[2,0],[3,1],[3,2]])"
   ]
  }
 ],
 "metadata": {
  "kernelspec": {
   "display_name": "Python 3",
   "language": "python",
   "name": "python3"
  },
  "language_info": {
   "codemirror_mode": {
    "name": "ipython",
    "version": 3
   },
   "file_extension": ".py",
   "mimetype": "text/x-python",
   "name": "python",
   "nbconvert_exporter": "python",
   "pygments_lexer": "ipython3",
   "version": "3.7.6"
  }
 },
 "nbformat": 4,
 "nbformat_minor": 4
}
