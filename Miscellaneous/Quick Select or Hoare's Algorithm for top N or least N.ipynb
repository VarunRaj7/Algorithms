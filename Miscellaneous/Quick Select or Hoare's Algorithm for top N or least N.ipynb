{
 "cells": [
  {
   "cell_type": "markdown",
   "metadata": {},
   "source": [
    "### Quick Sort Algorithm"
   ]
  },
  {
   "cell_type": "markdown",
   "metadata": {},
   "source": [
    "#### Using Lomuto Partition Scheme"
   ]
  },
  {
   "cell_type": "code",
   "execution_count": 8,
   "metadata": {},
   "outputs": [],
   "source": [
    "class QSLumotoPartition:\n",
    "    \n",
    "    def quickSort(self, arr, low, high):\n",
    "        if low<high:\n",
    "            pivot = self.partition(arr, low, high)\n",
    "            self.quickSort(arr, low, pivot-1)\n",
    "            self.quickSort(arr, pivot+1, high)\n",
    "            \n",
    "    def partition(self, arr, low, high):\n",
    "        pivot = arr[high]\n",
    "        i = low\n",
    "        for j in range(low, high):\n",
    "            if arr[j]<pivot:\n",
    "                arr[i], arr[j] = arr[j], arr[i]\n",
    "                i+=1\n",
    "        arr[i], arr[high] = arr[high], arr[i]\n",
    "        return i"
   ]
  },
  {
   "cell_type": "code",
   "execution_count": 9,
   "metadata": {},
   "outputs": [
    {
     "name": "stdout",
     "output_type": "stream",
     "text": [
      "[1, 2, 3, 5, 6]\n"
     ]
    }
   ],
   "source": [
    "arr = [2,5,3,6,1]\n",
    "\n",
    "QSLumotoPartition().quickSort(arr, 0, 4)\n",
    "\n",
    "print(arr)"
   ]
  },
  {
   "cell_type": "markdown",
   "metadata": {},
   "source": [
    "#### Using Hoare Partition Scheme"
   ]
  },
  {
   "cell_type": "code",
   "execution_count": 29,
   "metadata": {},
   "outputs": [],
   "source": [
    "class QSHoarePartition:\n",
    "    \n",
    "    def quickSort(self, arr, low, high):\n",
    "        if low<high:\n",
    "            pivot = self.partition(arr, low, high)\n",
    "            self.quickSort(arr, low, pivot-1)\n",
    "            self.quickSort(arr, pivot+1, high)\n",
    "            \n",
    "    def partition(self, arr, low, high):\n",
    "        pos = (low+high)//2\n",
    "        pivot = arr[pos]\n",
    "        ml, mr = high, low\n",
    "        print(arr, ml, mr)\n",
    "        while(ml<mr):\n",
    "            while(arr[ml]>=pivot):\n",
    "                print(arr, ml)\n",
    "                ml-=1\n",
    "            while(arr[mr]<=pivot):\n",
    "                print(arr, mr)\n",
    "                mr+=1\n",
    "            if mr<ml:\n",
    "                arr[ml], arr[mr] = arr[mr], arr[ml] \n",
    "        arr[ml], arr[pos] =  arr[pos], arr[ml] \n",
    "        return pos"
   ]
  },
  {
   "cell_type": "code",
   "execution_count": 30,
   "metadata": {},
   "outputs": [
    {
     "name": "stdout",
     "output_type": "stream",
     "text": [
      "[2, 5, 3, 6, 1] 4 0\n",
      "[2, 5, 1, 6, 3] 1 0\n",
      "[5, 2, 1, 6, 3] 4 3\n",
      "[5, 2, 1, 3, 6]\n"
     ]
    }
   ],
   "source": [
    "arr = [2,5,3,6,1]\n",
    "\n",
    "QSHoarePartition().quickSort(arr, 0, 4)\n",
    "\n",
    "print(arr)"
   ]
  },
  {
   "cell_type": "markdown",
   "metadata": {},
   "source": [
    "### Quick Select or Hoare's Algorithm for top N or least N"
   ]
  },
  {
   "cell_type": "code",
   "execution_count": null,
   "metadata": {},
   "outputs": [],
   "source": []
  }
 ],
 "metadata": {
  "kernelspec": {
   "display_name": "Python 3",
   "language": "python",
   "name": "python3"
  },
  "language_info": {
   "codemirror_mode": {
    "name": "ipython",
    "version": 3
   },
   "file_extension": ".py",
   "mimetype": "text/x-python",
   "name": "python",
   "nbconvert_exporter": "python",
   "pygments_lexer": "ipython3",
   "version": "3.7.6"
  }
 },
 "nbformat": 4,
 "nbformat_minor": 4
}
