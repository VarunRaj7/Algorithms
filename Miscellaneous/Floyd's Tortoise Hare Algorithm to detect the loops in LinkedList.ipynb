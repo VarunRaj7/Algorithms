{
 "cells": [
  {
   "cell_type": "markdown",
   "metadata": {},
   "source": [
    "### Floyd's Tortoise Hare Algorithm to detect loops in LinkedList\n",
    "\n",
    "This is a two-pointer technique to detect loops in LinkedList, where one pointer is tortoise which will make one step at a time while hare runs at twice the speed of the tortoise. If these to meeet at a position then there's a loop"
   ]
  },
  {
   "cell_type": "code",
   "execution_count": 1,
   "metadata": {},
   "outputs": [],
   "source": [
    "class ListNode:\n",
    "    def __init__(self, x):\n",
    "        self.val = x\n",
    "        self.next = None\n",
    "\n",
    "class Solution:\n",
    "    def hasCycle(self, head: ListNode) -> bool:\n",
    "        if head==None or head.next==None:\n",
    "            return False\n",
    "        \n",
    "        tortoise = head\n",
    "        hare = head.next\n",
    "        \n",
    "        # print(tortoise.val, hare.val)\n",
    "        \n",
    "        while(tortoise!=hare):\n",
    "            if hare==None or hare.next==None:\n",
    "                return False\n",
    "            tortoise = tortoise.next\n",
    "            hare = hare.next.next\n",
    "        return True"
   ]
  },
  {
   "cell_type": "code",
   "execution_count": 2,
   "metadata": {},
   "outputs": [],
   "source": [
    "def createLLwithLoop(arr, pos):\n",
    "    head = ListNode(arr[0])\n",
    "    temphead = head\n",
    "    lnode = None\n",
    "    for i in range(1,len(arr)):\n",
    "        head.next = ListNode(arr[i])\n",
    "        if i==pos:\n",
    "            lnode = head\n",
    "        head = head.next\n",
    "        \n",
    "    if pos!=-1:\n",
    "        head.next = lnode\n",
    "        \n",
    "    return temphead"
   ]
  },
  {
   "cell_type": "code",
   "execution_count": 6,
   "metadata": {},
   "outputs": [
    {
     "name": "stdout",
     "output_type": "stream",
     "text": [
      "True\n"
     ]
    }
   ],
   "source": [
    "arr = [3,2,0,-4] \n",
    "pos = 3\n",
    "\n",
    "ll = createLLwithLoop(arr, pos)\n",
    "\n",
    "print(Solution().hasCycle(ll))"
   ]
  }
 ],
 "metadata": {
  "kernelspec": {
   "display_name": "Python 3",
   "language": "python",
   "name": "python3"
  },
  "language_info": {
   "codemirror_mode": {
    "name": "ipython",
    "version": 3
   },
   "file_extension": ".py",
   "mimetype": "text/x-python",
   "name": "python",
   "nbconvert_exporter": "python",
   "pygments_lexer": "ipython3",
   "version": "3.7.6"
  }
 },
 "nbformat": 4,
 "nbformat_minor": 4
}
