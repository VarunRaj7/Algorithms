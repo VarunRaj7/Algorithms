{
 "cells": [
  {
   "cell_type": "markdown",
   "metadata": {},
   "source": [
    "## Articulation Points - Tarjan Algorithm"
   ]
  },
  {
   "cell_type": "code",
   "execution_count": 15,
   "metadata": {},
   "outputs": [],
   "source": [
    "from collections import defaultdict \n",
    "\n",
    "class Graph: \n",
    "   \n",
    "    def __init__(self,vertices): \n",
    "        self.v = vertices #No. of vertices \n",
    "        self.graph = defaultdict(list) # default dictionary to store graph \n",
    "        self.time = 0\n",
    "        self.visited = [False]*self.v\n",
    "        self.disc = [float(\"Inf\")]*self.v\n",
    "        self.low = [float(\"Inf\")]*self.v\n",
    "        self.parent = [-1]*self.v\n",
    "        self.ap = [False]*self.v\n",
    "        self.bridge = []\n",
    "   \n",
    "    # function to add an edge to graph \n",
    "    def addEdge(self,u,v): \n",
    "        self.graph[u].append(v) \n",
    "        self.graph[v].append(u)\n",
    "        \n",
    "    def apX(self, u):\n",
    "        \n",
    "        children = 0\n",
    "        self.visited[u] = True\n",
    "        self.disc[u] = self.time\n",
    "        self.low[u] = self.time\n",
    "        self.time+=1\n",
    "        \n",
    "        for v in self.graph[u]:\n",
    "            \n",
    "            if not self.visited[v]:\n",
    "                \n",
    "                ## give parent and increment children\n",
    "                self.parent[v] = u\n",
    "                children+=1\n",
    "                \n",
    "                ## call apX\n",
    "                self.apX(v)\n",
    "                \n",
    "                ## Check if low[v]<low[u] for back-edge\n",
    "                self.low[u] = min(self.low[u], self.low[v]) \n",
    "                \n",
    "                ## Condition 1:\n",
    "                ## u is root and children>1\n",
    "                if self.parent[u]==-1 and children>1:\n",
    "                    self.ap[u] = True\n",
    "                    \n",
    "                ## Condition 2:\n",
    "                ## u is not root and there exist no backedge\n",
    "                if self.parent[u]!=-1 and self.low[v]>self.disc[u]:\n",
    "                    self.ap[u] = True\n",
    "                    \n",
    "                ## Condition for bridges\n",
    "                if self.low[v] > self.disc[u]: \n",
    "                    self.bridge.append([u,v]) \n",
    "                    \n",
    "            elif v!=self.parent[u]:\n",
    "                self.low[u] = min(self.low[u], self.disc[v])\n",
    "                \n",
    "    def AP(self):\n",
    "        for i in range(self.v):\n",
    "            if not self.visited[i]:\n",
    "                self.apX(i)\n",
    "#         print(self.ap)\n",
    "        return [i for i in range(self.v) if self.ap[i]]"
   ]
  },
  {
   "cell_type": "code",
   "execution_count": 16,
   "metadata": {},
   "outputs": [
    {
     "data": {
      "text/plain": [
       "[0, 3]"
      ]
     },
     "execution_count": 16,
     "metadata": {},
     "output_type": "execute_result"
    }
   ],
   "source": [
    "g1 = Graph(5) \n",
    "g1.addEdge(1, 0) \n",
    "g1.addEdge(0, 2) \n",
    "g1.addEdge(2, 1) \n",
    "g1.addEdge(0, 3) \n",
    "g1.addEdge(3, 4) \n",
    "g1.AP()"
   ]
  },
  {
   "cell_type": "code",
   "execution_count": 17,
   "metadata": {},
   "outputs": [
    {
     "data": {
      "text/plain": [
       "[[3, 4], [0, 3]]"
      ]
     },
     "execution_count": 17,
     "metadata": {},
     "output_type": "execute_result"
    }
   ],
   "source": [
    "g1.bridge"
   ]
  },
  {
   "cell_type": "code",
   "execution_count": null,
   "metadata": {},
   "outputs": [],
   "source": []
  }
 ],
 "metadata": {
  "kernelspec": {
   "display_name": "Python 3",
   "language": "python",
   "name": "python3"
  },
  "language_info": {
   "codemirror_mode": {
    "name": "ipython",
    "version": 3
   },
   "file_extension": ".py",
   "mimetype": "text/x-python",
   "name": "python",
   "nbconvert_exporter": "python",
   "pygments_lexer": "ipython3",
   "version": "3.7.6"
  }
 },
 "nbformat": 4,
 "nbformat_minor": 4
}
