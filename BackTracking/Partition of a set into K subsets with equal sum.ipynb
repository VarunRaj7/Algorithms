{
 "cells": [
  {
   "cell_type": "markdown",
   "metadata": {},
   "source": [
    "## Partition of a set into K subsets with equal sum\n",
    "\n",
    "\n",
    "arr => given arr\n",
    "\n",
    "K => number of subsets\n",
    "\n",
    "n => size of arr\n",
    "\n",
    "Algorithm:\n",
    "\n",
    "1. Check if K==1 return True\n",
    "2. Check if K>N return False\n",
    "3. Check if sum of elements in arr is divisible by K else return False\n",
    "4. Subset sum will be sum(arr)//K\n",
    "5. Recursively put an element into a set and check if sum is Subset sum else backtrack\n"
   ]
  },
  {
   "cell_type": "code",
   "execution_count": 36,
   "metadata": {},
   "outputs": [],
   "source": [
    "class partitionSubset:\n",
    "    \n",
    "    def __init__(self, arr, K):\n",
    "        self.arr = arr\n",
    "        self.K = K\n",
    "        self.n = len(arr)\n",
    "        self.subsetSum = [0]*K\n",
    "        self.taken = [False]*self.n\n",
    "        self.s = sum(self.arr)//self.K\n",
    "        \n",
    "    def isPartitionSubsetX(self, curInd, hInd):\n",
    "        if self.subsetSum[curInd]==self.s:\n",
    "            if curInd==self.K-2:\n",
    "                return True\n",
    "            \n",
    "            return self.isPartitionSubsetX(curInd+1, self.n-1)\n",
    "        \n",
    "        for i in range(hInd, -1, -1):            \n",
    "            if self.taken[i]:\n",
    "                continue\n",
    "            \n",
    "            temp = self.subsetSum[curInd] + self.arr[i]\n",
    "            \n",
    "            if temp<=self.s:\n",
    "                \n",
    "                self.taken[i] = True\n",
    "                self.subsetSum[curInd] = temp\n",
    "                \n",
    "                if self.isPartitionSubsetX(curInd, i-1):\n",
    "                    return True                \n",
    "\n",
    "                self.taken[i] = False\n",
    "                self.subsetSum[curInd]-=self.arr[i]\n",
    "                \n",
    "        return False\n",
    "                 \n",
    "        \n",
    "    def isPartition(self):\n",
    "        \n",
    "        if self.K==1:\n",
    "            return True\n",
    "        \n",
    "        if self.n<self.K:\n",
    "            return False\n",
    "        \n",
    "        if self.s!=sum(self.arr)/self.K:\n",
    "            return False\n",
    "        \n",
    "        self.subsetSum[0] = self.arr[self.n-1]\n",
    "        self.taken[self.n-1] = True\n",
    "        \n",
    "        return self.isPartitionSubsetX(0,self.n-1)"
   ]
  },
  {
   "cell_type": "code",
   "execution_count": 37,
   "metadata": {},
   "outputs": [
    {
     "data": {
      "text/plain": [
       "True"
      ]
     },
     "execution_count": 37,
     "metadata": {},
     "output_type": "execute_result"
    }
   ],
   "source": [
    "partitionSubset([87, 56, 43, 91, 27, 65, 59, 36, 32, 51, 37, 28, 75, 7, 74], 2).isPartition()"
   ]
  }
 ],
 "metadata": {
  "kernelspec": {
   "display_name": "Python 3",
   "language": "python",
   "name": "python3"
  },
  "language_info": {
   "codemirror_mode": {
    "name": "ipython",
    "version": 3
   },
   "file_extension": ".py",
   "mimetype": "text/x-python",
   "name": "python",
   "nbconvert_exporter": "python",
   "pygments_lexer": "ipython3",
   "version": "3.7.6"
  }
 },
 "nbformat": 4,
 "nbformat_minor": 4
}
