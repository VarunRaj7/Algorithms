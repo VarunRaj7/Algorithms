{
 "cells": [
  {
   "cell_type": "markdown",
   "metadata": {},
   "source": [
    "## Solving Knight's Tour Problem using Warnsdorf Algorithm\n",
    "\n",
    "\n",
    "Degree of a square:\n",
    "\n",
    "It is the toal number of possible moves from the given square.\n",
    "\n",
    "Algorithm:\n",
    "\n",
    "1. Chose a starting square\n",
    "2. Mark the starting square\n",
    "3. Make a next move to the square where the degree is minimum.\n",
    "4. Mark the next move as starting square and repeat 1,2 and 3 until all the squares are occupied\n",
    "\n",
    "\n",
    "References:\n",
    "\n",
    "[GeeksforGeeks](https://www.geeksforgeeks.org/warnsdorffs-algorithm-knights-tour-problem/)\n",
    "\n",
    "[Wikipedia](https://en.wikipedia.org/wiki/Knight%27s_tour)\n"
   ]
  },
  {
   "cell_type": "code",
   "execution_count": 41,
   "metadata": {},
   "outputs": [],
   "source": [
    "from random import randint\n",
    "from IPython.display import HTML, display\n",
    "\n",
    "class KnightTour:\n",
    "    \n",
    "    def __init__(self, n):\n",
    "        self.n = n\n",
    "        self.cx = [1, 1, 2, 2, -1, -1, -2, -2]\n",
    "        self.cy = [2, -2, 1, -1, 2, -2, 1, -1]\n",
    "        self.a = [[-1 for _ in range(self.n)] for _ in range(self.n)]\n",
    "        self.cn = 8\n",
    "        self.sx = randint(0,7)\n",
    "        self.sy = randint(0,7)\n",
    "        \n",
    "    def limits(self, x, y):\n",
    "        return (not x<0 and not y<0) and (x<self.n and y<self.n)\n",
    "    \n",
    "    def isEmpty(self, x, y):\n",
    "        return self.limits(x,y) and self.a[x][y]<0\n",
    "    \n",
    "    def getDegree(self, x, y):\n",
    "        count = 0\n",
    "        for i in range(self.cn):\n",
    "            if self.isEmpty(x+self.cx[i], y+self.cy[i]):\n",
    "                count+=1\n",
    "                \n",
    "        return count\n",
    "    \n",
    "    def nextMove(self):\n",
    "        minDegInd, minDeg = -1, self.n+1\n",
    "        \n",
    "        for i in range(self.cn):\n",
    "            nx = self.sx + self.cx[i]\n",
    "            ny = self.sy + self.cy[i]\n",
    "            tempDeg = self.getDegree(nx, ny)\n",
    "            if self.isEmpty(nx, ny) and tempDeg<minDeg:\n",
    "                minDegInd = i\n",
    "                minDeg = tempDeg\n",
    "                \n",
    "        if minDeg<0:\n",
    "            return False\n",
    "\n",
    "        nx = self.sx + self.cx[minDegInd]\n",
    "        ny = self.sy + self.cy[minDegInd]\n",
    "\n",
    "        self.a[nx][ny] = self.a[self.sx][self.sy] + 1\n",
    "        \n",
    "        self.sx = nx\n",
    "        self.sy = ny\n",
    "        \n",
    "        return True\n",
    "        \n",
    "    def process(self):\n",
    "        for i in range(self.n):\n",
    "            for j in range(self.n):\n",
    "                if not self.nextMove():\n",
    "                    return False\n",
    "                \n",
    "        self.display_table(self.a)\n",
    "        return True\n",
    "\n",
    "    def display_table(self, data):\n",
    "        html = \"<table>\"\n",
    "        for row in data:\n",
    "            html += \"<tr>\"\n",
    "            for field in row:\n",
    "                html += \"<td><h4>%s</h4><td>\"%(field)\n",
    "            html += \"</tr>\"\n",
    "        html += \"</table>\"\n",
    "        display(HTML(html))"
   ]
  },
  {
   "cell_type": "code",
   "execution_count": 42,
   "metadata": {},
   "outputs": [
    {
     "data": {
      "text/html": [
       "<table><tr><td><h4>16</h4><td><td><h4>19</h4><td><td><h4>96</h4><td><td><h4>41</h4><td><td><h4>50</h4><td><td><h4>21</h4><td><td><h4>0</h4><td><td><h4>43</h4><td><td><h4>46</h4><td><td><h4>23</h4><td></tr><tr><td><h4>97</h4><td><td><h4>38</h4><td><td><h4>17</h4><td><td><h4>20</h4><td><td><h4>95</h4><td><td><h4>42</h4><td><td><h4>49</h4><td><td><h4>22</h4><td><td><h4>1</h4><td><td><h4>44</h4><td></tr><tr><td><h4>18</h4><td><td><h4>15</h4><td><td><h4>92</h4><td><td><h4>99</h4><td><td><h4>40</h4><td><td><h4>51</h4><td><td><h4>90</h4><td><td><h4>45</h4><td><td><h4>24</h4><td><td><h4>47</h4><td></tr><tr><td><h4>37</h4><td><td><h4>98</h4><td><td><h4>39</h4><td><td><h4>52</h4><td><td><h4>91</h4><td><td><h4>94</h4><td><td><h4>87</h4><td><td><h4>48</h4><td><td><h4>71</h4><td><td><h4>2</h4><td></tr><tr><td><h4>14</h4><td><td><h4>53</h4><td><td><h4>78</h4><td><td><h4>93</h4><td><td><h4>76</h4><td><td><h4>85</h4><td><td><h4>72</h4><td><td><h4>89</h4><td><td><h4>66</h4><td><td><h4>25</h4><td></tr><tr><td><h4>79</h4><td><td><h4>36</h4><td><td><h4>75</h4><td><td><h4>84</h4><td><td><h4>81</h4><td><td><h4>88</h4><td><td><h4>67</h4><td><td><h4>86</h4><td><td><h4>3</h4><td><td><h4>70</h4><td></tr><tr><td><h4>54</h4><td><td><h4>13</h4><td><td><h4>80</h4><td><td><h4>77</h4><td><td><h4>62</h4><td><td><h4>73</h4><td><td><h4>82</h4><td><td><h4>69</h4><td><td><h4>26</h4><td><td><h4>65</h4><td></tr><tr><td><h4>35</h4><td><td><h4>10</h4><td><td><h4>57</h4><td><td><h4>74</h4><td><td><h4>83</h4><td><td><h4>68</h4><td><td><h4>61</h4><td><td><h4>64</h4><td><td><h4>29</h4><td><td><h4>4</h4><td></tr><tr><td><h4>12</h4><td><td><h4>55</h4><td><td><h4>8</h4><td><td><h4>33</h4><td><td><h4>58</h4><td><td><h4>63</h4><td><td><h4>6</h4><td><td><h4>31</h4><td><td><h4>60</h4><td><td><h4>27</h4><td></tr><tr><td><h4>9</h4><td><td><h4>34</h4><td><td><h4>11</h4><td><td><h4>56</h4><td><td><h4>7</h4><td><td><h4>32</h4><td><td><h4>59</h4><td><td><h4>28</h4><td><td><h4>5</h4><td><td><h4>30</h4><td></tr></table>"
      ],
      "text/plain": [
       "<IPython.core.display.HTML object>"
      ]
     },
     "metadata": {},
     "output_type": "display_data"
    },
    {
     "data": {
      "text/plain": [
       "True"
      ]
     },
     "execution_count": 42,
     "metadata": {},
     "output_type": "execute_result"
    }
   ],
   "source": [
    "KnightTour(10).process()"
   ]
  }
 ],
 "metadata": {
  "kernelspec": {
   "display_name": "Python 3",
   "language": "python",
   "name": "python3"
  },
  "language_info": {
   "codemirror_mode": {
    "name": "ipython",
    "version": 3
   },
   "file_extension": ".py",
   "mimetype": "text/x-python",
   "name": "python",
   "nbconvert_exporter": "python",
   "pygments_lexer": "ipython3",
   "version": "3.7.6"
  }
 },
 "nbformat": 4,
 "nbformat_minor": 4
}
