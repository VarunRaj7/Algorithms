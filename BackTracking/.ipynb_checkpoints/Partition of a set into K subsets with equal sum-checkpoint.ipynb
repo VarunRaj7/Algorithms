{
 "cells": [
  {
   "cell_type": "code",
   "execution_count": 29,
   "metadata": {},
   "outputs": [],
   "source": [
    "class partitionSubset:\n",
    "    \n",
    "    def __init__(self, arr, K):\n",
    "        self.arr = arr\n",
    "        self.K = K\n",
    "        self.n = len(arr)\n",
    "        self.subsetSum = [0]*K\n",
    "        self.taken = [False]*self.n\n",
    "        self.s = sum(self.arr)//self.K\n",
    "        \n",
    "    def isPartitionSubsetX(self, curInd, hInd):\n",
    "        if self.subsetSum[curInd]==self.s:\n",
    "            if curInd==self.K-2:\n",
    "                return True\n",
    "            \n",
    "            return self.isPartitionSubsetX(curInd+1, self.n-1)\n",
    "        \n",
    "        for i in range(hInd, -1, -1):            \n",
    "            if self.taken[i]:\n",
    "                continue\n",
    "            \n",
    "            temp = self.subsetSum[curInd] + self.arr[i]\n",
    "            \n",
    "            if temp<=self.s:\n",
    "                \n",
    "                self.taken[i] = True\n",
    "                self.subsetSum[curInd] = temp\n",
    "                \n",
    "                if self.isPartitionSubsetX(curInd, i-1):\n",
    "                    return True                \n",
    "\n",
    "                self.taken[i] = False\n",
    "                self.subsetSum[curInd]-=arr\n",
    "                \n",
    "        return False\n",
    "                 \n",
    "        \n",
    "    def isPartition(self):\n",
    "        \n",
    "        if self.K==1:\n",
    "            return True\n",
    "        \n",
    "        if self.n<self.K:\n",
    "            return False\n",
    "        \n",
    "        if self.s!=sum(self.arr)/self.K:\n",
    "            return False\n",
    "        \n",
    "        self.subsetSum[0] = self.arr[self.n-1]\n",
    "        self.taken[self.n-1] = True\n",
    "        \n",
    "        return self.isPartitionSubsetX(0,self.n-1)"
   ]
  },
  {
   "cell_type": "code",
   "execution_count": 30,
   "metadata": {},
   "outputs": [
    {
     "name": "stdout",
     "output_type": "stream",
     "text": [
      "[3, 0] 0\n",
      "[6, 0] 0\n",
      "[7, 0] 0\n",
      "[9, 0] 0\n"
     ]
    },
    {
     "data": {
      "text/plain": [
       "True"
      ]
     },
     "execution_count": 30,
     "metadata": {},
     "output_type": "execute_result"
    }
   ],
   "source": [
    "partitionSubset([2, 1, 4, 5, 3, 3], 2).isPartition()"
   ]
  },
  {
   "cell_type": "code",
   "execution_count": null,
   "metadata": {},
   "outputs": [],
   "source": []
  }
 ],
 "metadata": {
  "kernelspec": {
   "display_name": "Python 3",
   "language": "python",
   "name": "python3"
  },
  "language_info": {
   "codemirror_mode": {
    "name": "ipython",
    "version": 3
   },
   "file_extension": ".py",
   "mimetype": "text/x-python",
   "name": "python",
   "nbconvert_exporter": "python",
   "pygments_lexer": "ipython3",
   "version": "3.7.6"
  }
 },
 "nbformat": 4,
 "nbformat_minor": 4
}
